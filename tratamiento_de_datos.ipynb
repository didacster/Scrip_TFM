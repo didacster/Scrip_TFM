{
 "cells": [
  {
   "cell_type": "code",
   "execution_count": 1,
   "id": "8a51f3c9",
   "metadata": {},
   "outputs": [],
   "source": [
    "import pandas as pd\n",
    "import numpy as np\n",
    "import datetime\n",
    "import statistics as stc\n",
    "import matplotlib.pyplot as plt\n",
    "import copy\n",
    "import os\n",
    "import math\n",
    "\n",
    "from datetime import timedelta\n",
    "from numpy import nan\n",
    "from itertools import combinations\n",
    "from matplotlib import pyplot as plt"
   ]
  },
  {
   "cell_type": "markdown",
   "id": "69d3a52e",
   "metadata": {},
   "source": [
    "# Carga de datos"
   ]
  },
  {
   "cell_type": "code",
   "execution_count": 2,
   "id": "7c255a77",
   "metadata": {},
   "outputs": [],
   "source": [
    "ruta_un = \"Datos_unificados/data_global.csv\"\n",
    "df_general = pd.read_csv(ruta_un)\n",
    "\n",
    "df_general.drop(columns=\"Unnamed: 0\", inplace=True)\n",
    "\n",
    "#eliminamos las lineas con todas las columnas vacias \n",
    "df_general = df_general.dropna(how='all')"
   ]
  },
  {
   "cell_type": "markdown",
   "id": "60d3943d",
   "metadata": {},
   "source": [
    "Se definen 2 tipos de datasets para pruebas:\n",
    " - Dataset donde se eliminan todas las lineas con algún valor vacío\n",
    " - Dataset donde se rellenan todas las lineas con algún valor vacío"
   ]
  },
  {
   "cell_type": "code",
   "execution_count": 3,
   "id": "d3dbdb02",
   "metadata": {},
   "outputs": [],
   "source": [
    "df_general = df_general.drop(df_general[df_general[\"<# Operacions>\"].isnull()].index)\n",
    "\n",
    "df_general[\"<# Operacions>\"] = df_general[\"<# Operacions>\"].replace(0,1)"
   ]
  },
  {
   "cell_type": "code",
   "execution_count": 4,
   "id": "9e472ab4",
   "metadata": {},
   "outputs": [],
   "source": [
    "df_ligth = df_general[df_general[\"<Data Entrada Port>\"].notna()]\n",
    "df_ligth = df_ligth[df_ligth['<Data MAINGATE>'].notna()]\n",
    "df_ligth = df_ligth[df_ligth['<Data SORTIDA>'].notna()]\n",
    "df_ligth = df_ligth[df_ligth['<DataHora CODECO>'].notna()]"
   ]
  },
  {
   "cell_type": "code",
   "execution_count": 6,
   "id": "bd46e5df",
   "metadata": {},
   "outputs": [
    {
     "data": {
      "text/html": [
       "<div>\n",
       "<style scoped>\n",
       "    .dataframe tbody tr th:only-of-type {\n",
       "        vertical-align: middle;\n",
       "    }\n",
       "\n",
       "    .dataframe tbody tr th {\n",
       "        vertical-align: top;\n",
       "    }\n",
       "\n",
       "    .dataframe thead th {\n",
       "        text-align: right;\n",
       "    }\n",
       "</style>\n",
       "<table border=\"1\" class=\"dataframe\">\n",
       "  <thead>\n",
       "    <tr style=\"text-align: right;\">\n",
       "      <th></th>\n",
       "      <th>&lt;# Operacions&gt;</th>\n",
       "      <th>&lt;Minuts trànsit&gt;</th>\n",
       "    </tr>\n",
       "  </thead>\n",
       "  <tbody>\n",
       "    <tr>\n",
       "      <th>count</th>\n",
       "      <td>3.308074e+06</td>\n",
       "      <td>1.820054e+06</td>\n",
       "    </tr>\n",
       "    <tr>\n",
       "      <th>mean</th>\n",
       "      <td>1.395145e+00</td>\n",
       "      <td>3.636247e+01</td>\n",
       "    </tr>\n",
       "    <tr>\n",
       "      <th>std</th>\n",
       "      <td>5.159342e-01</td>\n",
       "      <td>3.999988e+01</td>\n",
       "    </tr>\n",
       "    <tr>\n",
       "      <th>min</th>\n",
       "      <td>1.000000e+00</td>\n",
       "      <td>8.330000e-02</td>\n",
       "    </tr>\n",
       "    <tr>\n",
       "      <th>25%</th>\n",
       "      <td>1.000000e+00</td>\n",
       "      <td>8.450000e+00</td>\n",
       "    </tr>\n",
       "    <tr>\n",
       "      <th>50%</th>\n",
       "      <td>1.000000e+00</td>\n",
       "      <td>2.221670e+01</td>\n",
       "    </tr>\n",
       "    <tr>\n",
       "      <th>75%</th>\n",
       "      <td>2.000000e+00</td>\n",
       "      <td>5.163330e+01</td>\n",
       "    </tr>\n",
       "    <tr>\n",
       "      <th>max</th>\n",
       "      <td>4.000000e+00</td>\n",
       "      <td>5.939000e+02</td>\n",
       "    </tr>\n",
       "  </tbody>\n",
       "</table>\n",
       "</div>"
      ],
      "text/plain": [
       "       <# Operacions>  <Minuts trànsit>\n",
       "count    3.308074e+06      1.820054e+06\n",
       "mean     1.395145e+00      3.636247e+01\n",
       "std      5.159342e-01      3.999988e+01\n",
       "min      1.000000e+00      8.330000e-02\n",
       "25%      1.000000e+00      8.450000e+00\n",
       "50%      1.000000e+00      2.221670e+01\n",
       "75%      2.000000e+00      5.163330e+01\n",
       "max      4.000000e+00      5.939000e+02"
      ]
     },
     "execution_count": 6,
     "metadata": {},
     "output_type": "execute_result"
    }
   ],
   "source": [
    "df_general.describe()"
   ]
  },
  {
   "cell_type": "code",
   "execution_count": 7,
   "id": "e4e5e76a",
   "metadata": {},
   "outputs": [
    {
     "data": {
      "text/html": [
       "<div>\n",
       "<style scoped>\n",
       "    .dataframe tbody tr th:only-of-type {\n",
       "        vertical-align: middle;\n",
       "    }\n",
       "\n",
       "    .dataframe tbody tr th {\n",
       "        vertical-align: top;\n",
       "    }\n",
       "\n",
       "    .dataframe thead th {\n",
       "        text-align: right;\n",
       "    }\n",
       "</style>\n",
       "<table border=\"1\" class=\"dataframe\">\n",
       "  <thead>\n",
       "    <tr style=\"text-align: right;\">\n",
       "      <th></th>\n",
       "      <th>&lt;# Operacions&gt;</th>\n",
       "      <th>&lt;Minuts trànsit&gt;</th>\n",
       "    </tr>\n",
       "  </thead>\n",
       "  <tbody>\n",
       "    <tr>\n",
       "      <th>count</th>\n",
       "      <td>2.226761e+06</td>\n",
       "      <td>1.730067e+06</td>\n",
       "    </tr>\n",
       "    <tr>\n",
       "      <th>mean</th>\n",
       "      <td>1.467599e+00</td>\n",
       "      <td>3.607026e+01</td>\n",
       "    </tr>\n",
       "    <tr>\n",
       "      <th>std</th>\n",
       "      <td>5.296964e-01</td>\n",
       "      <td>3.961083e+01</td>\n",
       "    </tr>\n",
       "    <tr>\n",
       "      <th>min</th>\n",
       "      <td>1.000000e+00</td>\n",
       "      <td>8.330000e-02</td>\n",
       "    </tr>\n",
       "    <tr>\n",
       "      <th>25%</th>\n",
       "      <td>1.000000e+00</td>\n",
       "      <td>8.333300e+00</td>\n",
       "    </tr>\n",
       "    <tr>\n",
       "      <th>50%</th>\n",
       "      <td>1.000000e+00</td>\n",
       "      <td>2.200000e+01</td>\n",
       "    </tr>\n",
       "    <tr>\n",
       "      <th>75%</th>\n",
       "      <td>2.000000e+00</td>\n",
       "      <td>5.133330e+01</td>\n",
       "    </tr>\n",
       "    <tr>\n",
       "      <th>max</th>\n",
       "      <td>4.000000e+00</td>\n",
       "      <td>5.939000e+02</td>\n",
       "    </tr>\n",
       "  </tbody>\n",
       "</table>\n",
       "</div>"
      ],
      "text/plain": [
       "       <# Operacions>  <Minuts trànsit>\n",
       "count    2.226761e+06      1.730067e+06\n",
       "mean     1.467599e+00      3.607026e+01\n",
       "std      5.296964e-01      3.961083e+01\n",
       "min      1.000000e+00      8.330000e-02\n",
       "25%      1.000000e+00      8.333300e+00\n",
       "50%      1.000000e+00      2.200000e+01\n",
       "75%      2.000000e+00      5.133330e+01\n",
       "max      4.000000e+00      5.939000e+02"
      ]
     },
     "execution_count": 7,
     "metadata": {},
     "output_type": "execute_result"
    }
   ],
   "source": [
    "df_ligth.describe()"
   ]
  },
  {
   "cell_type": "code",
   "execution_count": 8,
   "id": "884897a2",
   "metadata": {},
   "outputs": [],
   "source": [
    "columnas = pd.Series(['<Data Operació>','<Visita>','<# Operacions>',\n",
    "                             '<Contenidor>','<Ple/Buit>','<Tipus Operació>','<Data Entrada Port>',\n",
    "                             '<Data MAINGATE>','<Data SORTIDA>','<DataHora CODECO>',\n",
    "                             \"<Lloc d'entrada port>\",'<Minuts trànsit>'\n",
    "                            ])"
   ]
  },
  {
   "cell_type": "code",
   "execution_count": 9,
   "id": "96afcdce",
   "metadata": {},
   "outputs": [],
   "source": [
    "# % de valores vacíos para cada columna\n",
    "def porc_val(df_general,columna):\n",
    "    for i in columna:\n",
    "        porcentaje = str(round(df_general[i].isnull().sum()/len(df_general)*100,2))\n",
    "        print(\"Porcentaje de valores nan en la columna \"+i+\":\")\n",
    "        print(\"                                                        \"+porcentaje + \"%\")\n",
    "        print(\"\")\n"
   ]
  },
  {
   "cell_type": "code",
   "execution_count": 10,
   "id": "625a31c0",
   "metadata": {},
   "outputs": [
    {
     "name": "stdout",
     "output_type": "stream",
     "text": [
      "Porcentaje de valores nan en la columna <Data Operació>:\n",
      "                                                        0.0%\n",
      "\n",
      "Porcentaje de valores nan en la columna <Visita>:\n",
      "                                                        0.0%\n",
      "\n",
      "Porcentaje de valores nan en la columna <# Operacions>:\n",
      "                                                        0.0%\n",
      "\n",
      "Porcentaje de valores nan en la columna <Contenidor>:\n",
      "                                                        0.0%\n",
      "\n",
      "Porcentaje de valores nan en la columna <Ple/Buit>:\n",
      "                                                        0.0%\n",
      "\n",
      "Porcentaje de valores nan en la columna <Tipus Operació>:\n",
      "                                                        0.0%\n",
      "\n",
      "Porcentaje de valores nan en la columna <Data Entrada Port>:\n",
      "                                                        27.11%\n",
      "\n",
      "Porcentaje de valores nan en la columna <Data MAINGATE>:\n",
      "                                                        14.15%\n",
      "\n",
      "Porcentaje de valores nan en la columna <Data SORTIDA>:\n",
      "                                                        13.15%\n",
      "\n",
      "Porcentaje de valores nan en la columna <DataHora CODECO>:\n",
      "                                                        4.67%\n",
      "\n",
      "Porcentaje de valores nan en la columna <Lloc d'entrada port>:\n",
      "                                                        27.11%\n",
      "\n",
      "Porcentaje de valores nan en la columna <Minuts trànsit>:\n",
      "                                                        44.98%\n",
      "\n"
     ]
    }
   ],
   "source": [
    "porc_val(df_general,columnas)"
   ]
  },
  {
   "cell_type": "markdown",
   "id": "39371a58",
   "metadata": {},
   "source": [
    "Relaciones entre las columnas vacías de los valores de tiempos"
   ]
  },
  {
   "cell_type": "markdown",
   "id": "e19fc69c",
   "metadata": {},
   "source": [
    "# Rellenado de datos"
   ]
  },
  {
   "cell_type": "code",
   "execution_count": 11,
   "id": "a9cf839c",
   "metadata": {},
   "outputs": [],
   "source": [
    "df_general[\"<Data Entrada Port>\"] = pd.to_datetime(df_general[\"<Data Entrada Port>\"])\n",
    "df_general[\"<Data MAINGATE>\"] = pd.to_datetime(df_general[\"<Data MAINGATE>\"])\n",
    "df_general[\"<DataHora CODECO>\"] = pd.to_datetime(df_general[\"<DataHora CODECO>\"])\n",
    "df_general[\"<Data SORTIDA>\"] = pd.to_datetime(df_general[\"<Data SORTIDA>\"])"
   ]
  },
  {
   "cell_type": "code",
   "execution_count": 12,
   "id": "a0b95125",
   "metadata": {},
   "outputs": [],
   "source": [
    "#Elimino outlayers(columna minuts acces vacíos) para calcular tiempos medios\n",
    "\n",
    "df_no_outlayer = df_general[np.invert(df_general[\"<Minuts trànsit>\"].isnull())]"
   ]
  },
  {
   "cell_type": "code",
   "execution_count": 13,
   "id": "d623a3a7",
   "metadata": {},
   "outputs": [
    {
     "name": "stdout",
     "output_type": "stream",
     "text": [
      "Porcentaje de valores nan en la columna <Data Operació>:\n",
      "                                                        0.0%\n",
      "\n",
      "Porcentaje de valores nan en la columna <Visita>:\n",
      "                                                        0.0%\n",
      "\n",
      "Porcentaje de valores nan en la columna <# Operacions>:\n",
      "                                                        0.0%\n",
      "\n",
      "Porcentaje de valores nan en la columna <Contenidor>:\n",
      "                                                        0.0%\n",
      "\n",
      "Porcentaje de valores nan en la columna <Ple/Buit>:\n",
      "                                                        0.0%\n",
      "\n",
      "Porcentaje de valores nan en la columna <Tipus Operació>:\n",
      "                                                        0.0%\n",
      "\n",
      "Porcentaje de valores nan en la columna <Data Entrada Port>:\n",
      "                                                        0.0%\n",
      "\n",
      "Porcentaje de valores nan en la columna <Data MAINGATE>:\n",
      "                                                        0.0%\n",
      "\n",
      "Porcentaje de valores nan en la columna <Data SORTIDA>:\n",
      "                                                        0.0%\n",
      "\n",
      "Porcentaje de valores nan en la columna <DataHora CODECO>:\n",
      "                                                        0.0%\n",
      "\n",
      "Porcentaje de valores nan en la columna <Lloc d'entrada port>:\n",
      "                                                        0.0%\n",
      "\n",
      "Porcentaje de valores nan en la columna <Minuts trànsit>:\n",
      "                                                        22.31%\n",
      "\n"
     ]
    }
   ],
   "source": [
    "porc_val(df_ligth,columnas)"
   ]
  },
  {
   "cell_type": "code",
   "execution_count": 14,
   "id": "bf241e24",
   "metadata": {},
   "outputs": [
    {
     "name": "stdout",
     "output_type": "stream",
     "text": [
      "Porcentaje de valores nan en la columna <Data Operació>:\n",
      "                                                        0.0%\n",
      "\n",
      "Porcentaje de valores nan en la columna <Visita>:\n",
      "                                                        0.0%\n",
      "\n",
      "Porcentaje de valores nan en la columna <# Operacions>:\n",
      "                                                        0.0%\n",
      "\n",
      "Porcentaje de valores nan en la columna <Contenidor>:\n",
      "                                                        0.0%\n",
      "\n",
      "Porcentaje de valores nan en la columna <Ple/Buit>:\n",
      "                                                        0.0%\n",
      "\n",
      "Porcentaje de valores nan en la columna <Tipus Operació>:\n",
      "                                                        0.0%\n",
      "\n",
      "Porcentaje de valores nan en la columna <Data Entrada Port>:\n",
      "                                                        27.11%\n",
      "\n",
      "Porcentaje de valores nan en la columna <Data MAINGATE>:\n",
      "                                                        14.15%\n",
      "\n",
      "Porcentaje de valores nan en la columna <Data SORTIDA>:\n",
      "                                                        13.15%\n",
      "\n",
      "Porcentaje de valores nan en la columna <DataHora CODECO>:\n",
      "                                                        4.67%\n",
      "\n",
      "Porcentaje de valores nan en la columna <Lloc d'entrada port>:\n",
      "                                                        27.11%\n",
      "\n",
      "Porcentaje de valores nan en la columna <Minuts trànsit>:\n",
      "                                                        44.98%\n",
      "\n"
     ]
    }
   ],
   "source": [
    "porc_val(df_general,columnas)"
   ]
  },
  {
   "cell_type": "markdown",
   "id": "87378d73",
   "metadata": {},
   "source": [
    "# calculo de tiempos"
   ]
  },
  {
   "cell_type": "code",
   "execution_count": 15,
   "id": "42cdf293",
   "metadata": {},
   "outputs": [],
   "source": [
    "#Calculo de minutos totales, desde que entra hasta que sale\n",
    "tiempo_total = df_no_outlayer[\"<Data SORTIDA>\"] - df_no_outlayer['<Data Entrada Port>']\n",
    "\n",
    "#tiempo medio en general de los camiones cuando entran y salen\n",
    "tiempo_medio_completo = tiempo_total.mean()"
   ]
  },
  {
   "cell_type": "code",
   "execution_count": 16,
   "id": "60096a9c",
   "metadata": {},
   "outputs": [],
   "source": [
    "#Tiempo medio entre entrada y MAINGATE\n",
    "tiempos_entradas = df_no_outlayer[\"<Data MAINGATE>\"] - df_no_outlayer['<Data Entrada Port>']\n",
    "\n",
    "#tiempo medio en general de los camiones cuando entran y salen\n",
    "tiempo_medio_entrada = tiempos_entradas.mean()"
   ]
  },
  {
   "cell_type": "code",
   "execution_count": 19,
   "id": "1b427a09",
   "metadata": {},
   "outputs": [
    {
     "data": {
      "text/plain": [
       "Timedelta('0 days 00:36:21.748032750')"
      ]
     },
     "execution_count": 19,
     "metadata": {},
     "output_type": "execute_result"
    }
   ],
   "source": [
    "tiempo_medio_entrada"
   ]
  },
  {
   "cell_type": "code",
   "execution_count": 20,
   "id": "a56ffa17",
   "metadata": {},
   "outputs": [],
   "source": [
    "#Tiempo desde la entrada al muelle hasta la salida del puerto\n",
    "\n",
    "df_no_outlayer.reset_index(drop=True, inplace=True)\n",
    "\n",
    "tiempos_salida = df_no_outlayer['<Data SORTIDA>'] - df_no_outlayer[\"<DataHora CODECO>\"] \n",
    "\n",
    "#tiempo medio en general de los camiones cuando entran y salen\n",
    "tiempo_medio_salida = tiempos_salida.mean()"
   ]
  },
  {
   "cell_type": "code",
   "execution_count": 21,
   "id": "5984ec17",
   "metadata": {},
   "outputs": [
    {
     "name": "stderr",
     "output_type": "stream",
     "text": [
      "C:\\Users\\didac\\anaconda3\\lib\\site-packages\\pandas\\core\\indexing.py:1637: SettingWithCopyWarning: \n",
      "A value is trying to be set on a copy of a slice from a DataFrame\n",
      "\n",
      "See the caveats in the documentation: https://pandas.pydata.org/pandas-docs/stable/user_guide/indexing.html#returning-a-view-versus-a-copy\n",
      "  self._setitem_single_block(indexer, value, name)\n",
      "C:\\Users\\didac\\anaconda3\\lib\\site-packages\\pandas\\core\\indexing.py:692: SettingWithCopyWarning: \n",
      "A value is trying to be set on a copy of a slice from a DataFrame\n",
      "\n",
      "See the caveats in the documentation: https://pandas.pydata.org/pandas-docs/stable/user_guide/indexing.html#returning-a-view-versus-a-copy\n",
      "  iloc._setitem_with_indexer(indexer, value, self.name)\n"
     ]
    }
   ],
   "source": [
    "#se rectifican tiempos ilógicos\n",
    "\n",
    "indice = tiempos_salida[tiempos_salida < pd.Timedelta(\"00:00:00\")].index\n",
    "\n",
    "df_no_outlayer['<Data SORTIDA>'].iloc[indice] = df_no_outlayer[\"<DataHora CODECO>\"].iloc[indice]+tiempo_medio_salida"
   ]
  },
  {
   "cell_type": "code",
   "execution_count": 22,
   "id": "4d0d0791",
   "metadata": {},
   "outputs": [],
   "source": [
    "#Tiempo medio para la columna Maingate\n",
    "\n",
    "tiempos_maingate_izq = df_no_outlayer[\"<Data MAINGATE>\"] - df_no_outlayer['<Data Entrada Port>']\n",
    "tiempos_maingate_derch = df_no_outlayer[\"<DataHora CODECO>\"] - df_no_outlayer[\"<Data MAINGATE>\"]\n",
    "tiempo_maingate_total = df_no_outlayer[\"<DataHora CODECO>\"] - df_no_outlayer['<Data Entrada Port>'] \n",
    "\n",
    "#tiempo medio en general de los camiones cuando entran y salen\n",
    "tiempo_medio_maingate_der = tiempos_maingate_derch.mean()\n",
    "tiempo_medio_maingate_izq = tiempos_maingate_izq.mean()\n",
    "tiempo_medio_total = tiempo_maingate_total.mean()\n",
    "\n",
    "tiempo_total = tiempo_medio_maingate_der + tiempo_medio_maingate_izq\n",
    "\n",
    "porc_maingate_derch = tiempo_medio_maingate_der.seconds / tiempo_total.seconds\n",
    "\n",
    "porc_maingate_izq = tiempo_medio_maingate_izq.seconds / tiempo_total.seconds"
   ]
  },
  {
   "cell_type": "code",
   "execution_count": 23,
   "id": "cd2a9744",
   "metadata": {},
   "outputs": [],
   "source": [
    "#Tiempo medio para la columna DataHora CODECO\n",
    "\n",
    "tiempos_codeco_izq = df_no_outlayer[\"<DataHora CODECO>\"] - df_no_outlayer['<Data MAINGATE>']\n",
    "tiempos_codeco_derch = df_no_outlayer[\"<Data SORTIDA>\"] - df_no_outlayer[\"<DataHora CODECO>\"]\n",
    "\n",
    "#tiempo medio en general de los camiones cuando entran y salen\n",
    "tiempo_medio_codeco_der = tiempos_codeco_derch.mean()\n",
    "tiempo_medio_codeco_izq = tiempos_codeco_izq.mean()\n",
    "\n",
    "tiempo_total = tiempo_medio_codeco_der + tiempo_medio_codeco_izq\n",
    "\n",
    "porc_codeco_derch = tiempo_medio_codeco_der.seconds / tiempo_total.seconds\n",
    "\n",
    "porc_codeco_izq = tiempo_medio_codeco_izq.seconds / tiempo_total.seconds"
   ]
  },
  {
   "cell_type": "code",
   "execution_count": 24,
   "id": "fb3ef82b",
   "metadata": {},
   "outputs": [
    {
     "data": {
      "text/plain": [
       "Timedelta('0 days 00:25:01.974771110')"
      ]
     },
     "execution_count": 24,
     "metadata": {},
     "output_type": "execute_result"
    }
   ],
   "source": [
    "#tiempo medio entre Maingate y CODECO\n",
    "tiempo_medio_maingate_der"
   ]
  },
  {
   "cell_type": "markdown",
   "id": "5f372ec3",
   "metadata": {},
   "source": [
    "# Definición de máscaras"
   ]
  },
  {
   "cell_type": "code",
   "execution_count": 25,
   "id": "f78074d1",
   "metadata": {},
   "outputs": [],
   "source": [
    "# tiempos_vacios de los extremos\n",
    "\n",
    "lista_tiempos_vacios = df_general['<Data SORTIDA>'].isnull() & df_general['<Data Entrada Port>'].isnull() & df_general['<Data MAINGATE>'].isnull() & df_general['<DataHora CODECO>'].isnull()\n",
    "\n",
    "entrada_vacio = df_general['<Data Entrada Port>'].isnull() & np.invert(df_general['<Data MAINGATE>'].isnull()) \n",
    "sortida_vacio = df_general['<Data SORTIDA>'].isnull() & np.invert(df_general['<DataHora CODECO>'].isnull())"
   ]
  },
  {
   "cell_type": "code",
   "execution_count": 26,
   "id": "a8b6b23a",
   "metadata": {},
   "outputs": [],
   "source": [
    "# tiempos vacíos entre medio\n",
    "\n",
    "mainagte_vacio = np.invert(df_general['<Data Entrada Port>'].isnull()) & df_general['<Data MAINGATE>'].isnull() & np.invert(df_general['<DataHora CODECO>'].isnull())\n",
    "codeco_vacio = np.invert(df_general['<Data MAINGATE>'].isnull()) & df_general['<DataHora CODECO>'].isnull() & np.invert(df_general['<Data SORTIDA>'].isnull())"
   ]
  },
  {
   "cell_type": "code",
   "execution_count": 27,
   "id": "69d99a15",
   "metadata": {},
   "outputs": [],
   "source": [
    "# tiempos vacíos en dos elementos\n",
    "\n",
    "Entrada_maingate_vacio = df_general[\"<Data Entrada Port>\"].isnull() & df_general[\"<Data MAINGATE>\"].isnull() & np.invert(df_general[\"<Data SORTIDA>\"].isnull()) & np.invert(df_general[\"<DataHora CODECO>\"].isnull()) \n",
    "Maingate_codeco_vacio = np.invert(df_general['<Data Entrada Port>'].isnull()) & np.invert(df_general['<Data SORTIDA>'].isnull()) & df_general['<DataHora CODECO>'].isnull() & df_general['<Data MAINGATE>'].isnull() \n",
    "sortida_codeco_vacio = np.invert(df_general['<Data Entrada Port>'].isnull()) & np.invert(df_general['<Data MAINGATE>'].isnull()) & df_general['<DataHora CODECO>'].isnull() & df_general['<Data SORTIDA>'].isnull()"
   ]
  },
  {
   "cell_type": "code",
   "execution_count": 28,
   "id": "46dbe0ef",
   "metadata": {},
   "outputs": [],
   "source": [
    "#mascaras necesarias\n",
    "\n",
    "entrada_maingate_codeco_vacio = df_general[\"<Data Entrada Port>\"].isnull() & df_general[\"<Data MAINGATE>\"].isnull() & df_general[\"<DataHora CODECO>\"].isnull() & np.invert(df_general[\"<Data SORTIDA>\"].isnull()) \n",
    "salida_maingate_codeco_vacio = df_general[\"<Data SORTIDA>\"].isnull() & df_general[\"<Data MAINGATE>\"].isnull() & df_general[\"<DataHora CODECO>\"].isnull() & np.invert(df_general[\"<Data Entrada Port>\"].isnull()) "
   ]
  },
  {
   "cell_type": "markdown",
   "id": "95577a9e",
   "metadata": {},
   "source": [
    "# Rellenado de columans"
   ]
  },
  {
   "cell_type": "markdown",
   "id": "fc3c1e0c",
   "metadata": {},
   "source": [
    "Falta 1/4"
   ]
  },
  {
   "cell_type": "markdown",
   "id": "2c27a396",
   "metadata": {},
   "source": [
    "Rellenado de tiempo de entrada"
   ]
  },
  {
   "cell_type": "code",
   "execution_count": 29,
   "id": "31563af3",
   "metadata": {},
   "outputs": [
    {
     "name": "stdout",
     "output_type": "stream",
     "text": [
      "\n",
      "solo columnas vacías: \n",
      "<Data Entrada Port>\n",
      "False    2847000\n",
      "True      461074\n",
      "dtype: int64\n",
      "\n",
      "solo columnas vacías: \n",
      "<Data MAINGATE>\n",
      "False    3255339\n",
      "True       52735\n",
      "dtype: int64\n",
      "\n",
      "solo columnas vacías: \n",
      "<Data SORTIDA>\n",
      "False    3296390\n",
      "True       11684\n",
      "dtype: int64\n",
      "\n",
      "solo columnas vacías: \n",
      "<DataHora CODECO>\n",
      "False    3220816\n",
      "True       87258\n",
      "dtype: int64\n"
     ]
    }
   ],
   "source": [
    "columnas = ['<Data Entrada Port>', '<Data MAINGATE>', '<Data SORTIDA>', '<DataHora CODECO>']\n",
    "\n",
    "for i in list(columnas):\n",
    "    \n",
    "    columnas = ['<Data Entrada Port>', '<Data MAINGATE>', '<Data SORTIDA>', '<DataHora CODECO>']\n",
    "\n",
    "    restantes = columnas\n",
    "    restantes.remove(i)\n",
    "    print(\"\")\n",
    "    print(\"solo columnas vacías: \")\n",
    "    print(i)\n",
    "    print((df_general[i].isnull() & np.invert(df_general[restantes[0]].isnull()) & np.invert(df_general[restantes[1]].isnull()) & np.invert(df_general[restantes[2]].isnull())).value_counts(dropna=False))"
   ]
  },
  {
   "cell_type": "code",
   "execution_count": 30,
   "id": "a13d484e",
   "metadata": {},
   "outputs": [],
   "source": [
    "indice = df_general[entrada_vacio].index\n",
    "\n",
    "df_entradas = df_general.loc[indice, :]\n",
    "\n",
    "df_general = df_general.drop(indice, axis=0)\n",
    "\n",
    "df_entradas[\"<Data Entrada Port>\"] = df_entradas[\"<Data MAINGATE>\"] - tiempo_medio_entrada\n",
    "\n",
    "df_general = pd.concat([df_general, df_entradas], axis=0)\n",
    "\n",
    "df_general = df_general.sort_index()"
   ]
  },
  {
   "cell_type": "markdown",
   "id": "eb9d8def",
   "metadata": {},
   "source": [
    "Rellenado de tiempo de salida"
   ]
  },
  {
   "cell_type": "code",
   "execution_count": 31,
   "id": "df56937c",
   "metadata": {},
   "outputs": [],
   "source": [
    "indice = df_general[sortida_vacio].index\n",
    "\n",
    "df_salidas = df_general.loc[indice, :]\n",
    "\n",
    "df_general = df_general.drop(indice, axis=0)\n",
    "\n",
    "df_salidas[\"<Data SORTIDA>\"] = df_salidas[\"<DataHora CODECO>\"] + tiempo_medio_salida\n",
    "\n",
    "df_general = pd.concat([df_general, df_salidas], axis=0)\n",
    "\n",
    "df_general = df_general.sort_index()"
   ]
  },
  {
   "cell_type": "markdown",
   "id": "824774b3",
   "metadata": {},
   "source": [
    "Rellenado de tiempo de maingate"
   ]
  },
  {
   "cell_type": "code",
   "execution_count": 32,
   "id": "9b11e18f",
   "metadata": {},
   "outputs": [],
   "source": [
    "tiempos_completos = (df_general[mainagte_vacio][\"<DataHora CODECO>\"] - df_general[mainagte_vacio][\"<Data Entrada Port>\"])\n",
    "\n",
    "tiempo_izq = tiempos_completos * porc_maingate_izq\n",
    "\n",
    "indice = df_general[mainagte_vacio].index\n",
    "\n",
    "df_salidas = df_general.loc[indice, :]\n",
    "\n",
    "df_general = df_general.drop(indice, axis=0)\n",
    "\n",
    "df_salidas[\"<Data MAINGATE>\"] = df_salidas[\"<Data Entrada Port>\"] + tiempo_izq\n",
    "\n",
    "df_general = pd.concat([df_general, df_salidas], axis=0)\n",
    "\n",
    "df_general = df_general.sort_index()"
   ]
  },
  {
   "cell_type": "markdown",
   "id": "1b6214a3",
   "metadata": {},
   "source": [
    "Rellenado DataHora CODECO"
   ]
  },
  {
   "cell_type": "code",
   "execution_count": 33,
   "id": "0da2b6d7",
   "metadata": {},
   "outputs": [],
   "source": [
    "tiempos_completos = (df_general[codeco_vacio][\"<Data SORTIDA>\"] - df_general[codeco_vacio][\"<Data MAINGATE>\"])\n",
    "\n",
    "tiempo_izq = tiempos_completos * porc_codeco_izq\n",
    "\n",
    "indice = df_general[codeco_vacio].index\n",
    "\n",
    "df_salidas = df_general.loc[indice, :]\n",
    "\n",
    "df_general = df_general.drop(indice, axis=0)\n",
    "\n",
    "df_salidas[\"<DataHora CODECO>\"] = df_salidas[\"<Data MAINGATE>\"] + tiempo_izq\n",
    "\n",
    "df_general = pd.concat([df_general, df_salidas], axis=0)\n",
    "\n",
    "df_general = df_general.sort_index()"
   ]
  },
  {
   "cell_type": "markdown",
   "id": "bc09470b",
   "metadata": {},
   "source": [
    "Falta 2/4"
   ]
  },
  {
   "cell_type": "code",
   "execution_count": 34,
   "id": "6ddc987f",
   "metadata": {},
   "outputs": [],
   "source": [
    "# tiempos vacíos en dos elementos\n",
    "\n",
    "Entrada_maingate_vacio = df_general[\"<Data Entrada Port>\"].isnull() & df_general[\"<Data MAINGATE>\"].isnull() & np.invert(df_general[\"<Data SORTIDA>\"].isnull()) & np.invert(df_general[\"<DataHora CODECO>\"].isnull()) \n",
    "Maingate_codeco_vacio = np.invert(df_general['<Data Entrada Port>'].isnull()) & np.invert(df_general['<Data SORTIDA>'].isnull()) & df_general['<DataHora CODECO>'].isnull() & df_general['<Data MAINGATE>'].isnull() \n",
    "sortida_codeco_vacio = np.invert(df_general['<Data Entrada Port>'].isnull()) & np.invert(df_general['<Data MAINGATE>'].isnull()) & df_general['<DataHora CODECO>'].isnull() & df_general['<Data SORTIDA>'].isnull() "
   ]
  },
  {
   "cell_type": "code",
   "execution_count": 35,
   "id": "b1851137",
   "metadata": {},
   "outputs": [
    {
     "name": "stdout",
     "output_type": "stream",
     "text": [
      "\n",
      "solo columnas vacías: \n",
      "<Data Entrada Port> <Data MAINGATE>\n",
      "False    2909807\n",
      "True      398267\n",
      "dtype: int64\n",
      "\n",
      "solo columnas vacías: \n",
      "<Data Entrada Port> <Data SORTIDA>\n",
      "False    3308074\n",
      "dtype: int64\n",
      "\n",
      "solo columnas vacías: \n",
      "<Data Entrada Port> <DataHora CODECO>\n",
      "False    3308074\n",
      "dtype: int64\n",
      "\n",
      "solo columnas vacías: \n",
      "<Data MAINGATE> <Data SORTIDA>\n",
      "False    3308074\n",
      "dtype: int64\n",
      "\n",
      "solo columnas vacías: \n",
      "<Data MAINGATE> <DataHora CODECO>\n",
      "False    3299908\n",
      "True        8166\n",
      "dtype: int64\n",
      "\n",
      "solo columnas vacías: \n",
      "<Data SORTIDA> <DataHora CODECO>\n",
      "False    3278982\n",
      "True       29092\n",
      "dtype: int64\n"
     ]
    }
   ],
   "source": [
    "columnas = ['<Data Entrada Port>',\n",
    "       '<Data MAINGATE>', '<Data SORTIDA>', '<DataHora CODECO>']\n",
    "       \n",
    "temp = combinations(columnas, 2)\n",
    "for i in list(temp):\n",
    "\n",
    "  colum_temp= copy.copy(columnas)\n",
    "  colum_temp.remove(i[0])\n",
    "  colum_temp.remove(i[1])\n",
    "  print(\"\")\n",
    "  print(\"solo columnas vacías: \")\n",
    "  print(i[0],i[1])\n",
    "  print((df_general[i[0]].isnull() & df_general[i[1]].isnull() & np.invert(df_general[colum_temp[0]].isnull()) & np.invert(df_general[colum_temp[1]].isnull())).value_counts(dropna=False))"
   ]
  },
  {
   "cell_type": "markdown",
   "id": "c26050e7",
   "metadata": {},
   "source": [
    "Rellenado de Entrada y maingate"
   ]
  },
  {
   "cell_type": "code",
   "execution_count": 36,
   "id": "5e64e194",
   "metadata": {},
   "outputs": [],
   "source": [
    "#Entrada y maingate vacíos\n",
    "indice = df_general[Entrada_maingate_vacio].index\n",
    "\n",
    "df_temporal = df_general.loc[indice, :]\n",
    "\n",
    "df_general = df_general.drop(indice, axis=0)\n",
    "\n",
    "df_temporal[\"<Data MAINGATE>\"] = df_temporal[\"<DataHora CODECO>\"] - tiempos_codeco_izq.mean()\n",
    "df_temporal[\"<Data Entrada Port>\"] = df_temporal[\"<Data MAINGATE>\"] - tiempo_medio_entrada\n",
    "\n",
    "df_general = pd.concat([df_general, df_temporal], axis=0)\n",
    "\n",
    "df_general = df_general.sort_index()"
   ]
  },
  {
   "cell_type": "markdown",
   "id": "c113e57a",
   "metadata": {},
   "source": [
    "Rellenado de Codeco y sortida"
   ]
  },
  {
   "cell_type": "code",
   "execution_count": 37,
   "id": "4928fa16",
   "metadata": {},
   "outputs": [],
   "source": [
    "indice = df_general[sortida_codeco_vacio].index\n",
    "\n",
    "df_temporal = df_general.loc[indice, :]\n",
    "\n",
    "df_general = df_general.drop(indice, axis=0)\n",
    "\n",
    "df_temporal[\"<DataHora CODECO>\"] = df_temporal[\"<Data MAINGATE>\"] + tiempos_maingate_derch.mean()\n",
    "df_temporal[\"<Data SORTIDA>\"] = df_temporal[\"<Data MAINGATE>\"] + tiempos_codeco_derch\n",
    "\n",
    "df_general = pd.concat([df_general, df_temporal], axis=0)\n",
    "\n",
    "df_general = df_general.sort_index()"
   ]
  },
  {
   "cell_type": "markdown",
   "id": "e7ab3ccf",
   "metadata": {},
   "source": [
    "Rellenado Maingate y CODECO"
   ]
  },
  {
   "cell_type": "code",
   "execution_count": 39,
   "id": "94ab69b5",
   "metadata": {},
   "outputs": [],
   "source": [
    "#asignación de porcentajes\n",
    "suma_tiempos = tiempos_entradas.mean() + tiempos_maingate_derch.mean() + tiempos_codeco_derch.mean()\n",
    "\n",
    "porc_entradas = tiempos_entradas.mean()/ suma_tiempos\n",
    "porc_espera = tiempos_maingate_derch.mean()/ suma_tiempos\n",
    "porc_salida = tiempos_codeco_derch.mean()/ suma_tiempos\n"
   ]
  },
  {
   "cell_type": "code",
   "execution_count": 40,
   "id": "0a56f5c1",
   "metadata": {},
   "outputs": [],
   "source": [
    "tiempos_completos = (df_general[Maingate_codeco_vacio][\"<Data Entrada Port>\"] - df_general[Maingate_codeco_vacio][\"<Data SORTIDA>\"])\n",
    "\n",
    "entrada_main = tiempos_completos * porc_entradas\n",
    "main_codeco = tiempos_completos * porc_espera\n",
    "\n",
    "indice = df_general[Maingate_codeco_vacio].index\n",
    "\n",
    "df_salidas = df_general.loc[indice, :]\n",
    "\n",
    "df_general = df_general.drop(indice, axis=0)\n",
    "\n",
    "df_salidas[\"<Data MAINGATE>\"] = df_salidas[\"<Data Entrada Port>\"] + entrada_main\n",
    "df_salidas[\"<DataHora CODECO>\"] = df_salidas[\"<Data MAINGATE>\"] + main_codeco\n",
    "\n",
    "df_general = pd.concat([df_general, df_salidas], axis=0)\n",
    "\n",
    "df_general = df_general.sort_index()"
   ]
  },
  {
   "cell_type": "markdown",
   "id": "d3092581",
   "metadata": {},
   "source": [
    "Faltan 3/4"
   ]
  },
  {
   "cell_type": "code",
   "execution_count": 41,
   "id": "5d3a0a34",
   "metadata": {},
   "outputs": [
    {
     "name": "stdout",
     "output_type": "stream",
     "text": [
      "\n",
      "solo columnas vacías: \n",
      "<Data Entrada Port> <Data MAINGATE> <Data SORTIDA>\n",
      "False    3308074\n",
      "dtype: int64\n",
      "\n",
      "solo columnas vacías: \n",
      "<Data Entrada Port> <Data MAINGATE> <DataHora CODECO>\n",
      "False    3305137\n",
      "True        2937\n",
      "dtype: int64\n",
      "\n",
      "solo columnas vacías: \n",
      "<Data Entrada Port> <Data SORTIDA> <DataHora CODECO>\n",
      "False    3308074\n",
      "dtype: int64\n",
      "\n",
      "solo columnas vacías: \n",
      "<Data MAINGATE> <Data SORTIDA> <DataHora CODECO>\n",
      "False    3307685\n",
      "True         389\n",
      "dtype: int64\n"
     ]
    }
   ],
   "source": [
    "#Comprobación de relleno completo\n",
    "\n",
    "columnas = ['<Data Entrada Port>',\n",
    "       '<Data MAINGATE>', '<Data SORTIDA>', '<DataHora CODECO>']\n",
    "       \n",
    "temp = combinations(columnas, 3)\n",
    "for i in list(temp):\n",
    "\n",
    "  colum_temp= copy.copy(columnas)\n",
    "  colum_temp.remove(i[0])\n",
    "  colum_temp.remove(i[1])\n",
    "  colum_temp.remove(i[2])\n",
    "  print(\"\")\n",
    "  print(\"solo columnas vacías: \")\n",
    "  print(i[0],i[1],i[2])\n",
    "\n",
    "  print((df_general[i[0]].isnull() & df_general[i[1]].isnull() & df_general[i[2]].isnull() & np.invert(df_general[colum_temp[0]].isnull())).value_counts(dropna=False))"
   ]
  },
  {
   "cell_type": "code",
   "execution_count": 42,
   "id": "c9dfa2a5",
   "metadata": {},
   "outputs": [],
   "source": [
    "indice = df_general[entrada_maingate_codeco_vacio].index\n",
    "\n",
    "df_temporal = df_general.loc[indice, :]\n",
    "\n",
    "df_general = df_general.drop(indice, axis=0)\n",
    "\n",
    "df_temporal[\"<DataHora CODECO>\"] = df_temporal[\"<Data SORTIDA>\"] - tiempos_salida.mean()\n",
    "df_temporal[\"<Data MAINGATE>\"] = df_temporal[\"<DataHora CODECO>\"] - tiempos_maingate_derch.mean()\n",
    "df_temporal[\"<Data Entrada Port>\"] = df_temporal[\"<Data MAINGATE>\"] - tiempos_maingate_izq.mean()\n",
    "\n",
    "df_general = pd.concat([df_general, df_temporal], axis=0)\n",
    "\n",
    "df_general = df_general.sort_index()"
   ]
  },
  {
   "cell_type": "markdown",
   "id": "2dfa1a6c",
   "metadata": {},
   "source": [
    "Relleno de columna codeco,maingate y sortida"
   ]
  },
  {
   "cell_type": "code",
   "execution_count": 43,
   "id": "f68a7a95",
   "metadata": {},
   "outputs": [],
   "source": [
    "indice = df_general[salida_maingate_codeco_vacio].index\n",
    "\n",
    "df_temporal = df_general.loc[indice, :]\n",
    "\n",
    "df_general = df_general.drop(indice, axis=0)\n",
    "\n",
    "df_temporal[\"<Data MAINGATE>\"] = df_temporal[\"<Data Entrada Port>\"] + tiempos_maingate_izq.mean()\n",
    "df_temporal[\"<DataHora CODECO>\"] = df_temporal[\"<Data MAINGATE>\"] + tiempos_maingate_derch.mean()\n",
    "df_temporal[\"<Data SORTIDA>\"] = df_temporal[\"<DataHora CODECO>\"] + tiempos_salida.mean()\n",
    "\n",
    "df_general = pd.concat([df_general, df_temporal], axis=0)\n",
    "\n",
    "df_general = df_general.sort_index()"
   ]
  },
  {
   "cell_type": "markdown",
   "id": "d8245759",
   "metadata": {},
   "source": [
    "# Comprobación de columnas vacías"
   ]
  },
  {
   "cell_type": "markdown",
   "id": "fe43567d",
   "metadata": {},
   "source": [
    "Para 2/4"
   ]
  },
  {
   "cell_type": "code",
   "execution_count": 44,
   "id": "06bbb322",
   "metadata": {},
   "outputs": [
    {
     "name": "stdout",
     "output_type": "stream",
     "text": [
      "\n",
      "solo columnas vacías: \n",
      "<Data Entrada Port> <Data MAINGATE> <Data SORTIDA>\n",
      "False    3308074\n",
      "dtype: int64\n",
      "\n",
      "solo columnas vacías: \n",
      "<Data Entrada Port> <Data MAINGATE> <DataHora CODECO>\n",
      "False    3308074\n",
      "dtype: int64\n",
      "\n",
      "solo columnas vacías: \n",
      "<Data Entrada Port> <Data SORTIDA> <DataHora CODECO>\n",
      "False    3308074\n",
      "dtype: int64\n",
      "\n",
      "solo columnas vacías: \n",
      "<Data MAINGATE> <Data SORTIDA> <DataHora CODECO>\n",
      "False    3308074\n",
      "dtype: int64\n"
     ]
    }
   ],
   "source": [
    "columnas = ['<Data Entrada Port>',\n",
    "       '<Data MAINGATE>', '<Data SORTIDA>', '<DataHora CODECO>']\n",
    "       \n",
    "temp = combinations(columnas, 3)\n",
    "for i in list(temp):\n",
    "\n",
    "  colum_temp= copy.copy(columnas)\n",
    "  colum_temp.remove(i[0])\n",
    "  colum_temp.remove(i[1])\n",
    "  colum_temp.remove(i[2])\n",
    "  print(\"\")\n",
    "  print(\"solo columnas vacías: \")\n",
    "  print(i[0],i[1],i[2])\n",
    "\n",
    "  print((df_general[i[0]].isnull() & df_general[i[1]].isnull() & df_general[i[2]].isnull() & np.invert(df_general[colum_temp[0]].isnull())).value_counts(dropna=False))"
   ]
  },
  {
   "cell_type": "markdown",
   "id": "e6c479ed",
   "metadata": {},
   "source": [
    "Para 3/4"
   ]
  },
  {
   "cell_type": "code",
   "execution_count": 45,
   "id": "1a429de3",
   "metadata": {},
   "outputs": [
    {
     "name": "stdout",
     "output_type": "stream",
     "text": [
      "\n",
      "solo columnas vacías: \n",
      "<Data Entrada Port> <Data MAINGATE> <Data SORTIDA>\n",
      "False    3308074\n",
      "dtype: int64\n",
      "\n",
      "solo columnas vacías: \n",
      "<Data Entrada Port> <Data MAINGATE> <DataHora CODECO>\n",
      "False    3308074\n",
      "dtype: int64\n",
      "\n",
      "solo columnas vacías: \n",
      "<Data Entrada Port> <Data SORTIDA> <DataHora CODECO>\n",
      "False    3308074\n",
      "dtype: int64\n",
      "\n",
      "solo columnas vacías: \n",
      "<Data MAINGATE> <Data SORTIDA> <DataHora CODECO>\n",
      "False    3308074\n",
      "dtype: int64\n"
     ]
    }
   ],
   "source": [
    "#Comprobación de relleno completo\n",
    "\n",
    "columnas = ['<Data Entrada Port>',\n",
    "       '<Data MAINGATE>', '<Data SORTIDA>', '<DataHora CODECO>']\n",
    "       \n",
    "temp = combinations(columnas, 3)\n",
    "for i in list(temp):\n",
    "\n",
    "  colum_temp= copy.copy(columnas)\n",
    "  colum_temp.remove(i[0])\n",
    "  colum_temp.remove(i[1])\n",
    "  colum_temp.remove(i[2])\n",
    "  print(\"\")\n",
    "  print(\"solo columnas vacías: \")\n",
    "  print(i[0],i[1],i[2])\n",
    "\n",
    "  print((df_general[i[0]].isnull() & df_general[i[1]].isnull() & df_general[i[2]].isnull() & np.invert(df_general[colum_temp[0]].isnull())).value_counts(dropna=False))"
   ]
  },
  {
   "cell_type": "code",
   "execution_count": 46,
   "id": "fd1cc51e",
   "metadata": {},
   "outputs": [],
   "source": [
    "# Se elimina las lineas donde los 4 tiempos están vacíos\n",
    "len(set(df_general[df_general[\"<Data SORTIDA>\"].isnull() & df_general[\"<Data MAINGATE>\"].isnull() & df_general[\"<DataHora CODECO>\"].isnull() & df_general[\"<Data Entrada Port>\"].isnull()][\"<Data Operació>\"]))\n",
    "\n",
    "indice = df_general[df_general[\"<Data SORTIDA>\"].isnull() & df_general[\"<Data MAINGATE>\"].isnull() & df_general[\"<DataHora CODECO>\"].isnull() & df_general[\"<Data Entrada Port>\"].isnull()].index\n",
    "\n",
    "df_general = df_general.drop(indice)\n",
    "\n",
    "indice = df_general[df_general[\"<Data SORTIDA>\"].isnull()].index\n",
    "\n",
    "df_general = df_general.drop(indice)"
   ]
  },
  {
   "cell_type": "code",
   "execution_count": 47,
   "id": "e3ba6545",
   "metadata": {},
   "outputs": [
    {
     "name": "stdout",
     "output_type": "stream",
     "text": [
      "Porcentaje de valores nan en la columna <Data Entrada Port>:\n",
      "                                                        0.0%\n",
      "\n",
      "Porcentaje de valores nan en la columna <Data MAINGATE>:\n",
      "                                                        0.0%\n",
      "\n",
      "Porcentaje de valores nan en la columna <Data SORTIDA>:\n",
      "                                                        0.0%\n",
      "\n",
      "Porcentaje de valores nan en la columna <DataHora CODECO>:\n",
      "                                                        0.0%\n",
      "\n"
     ]
    }
   ],
   "source": [
    "porc_val(df_general,columnas)"
   ]
  },
  {
   "cell_type": "code",
   "execution_count": 48,
   "id": "3d21bb23",
   "metadata": {},
   "outputs": [
    {
     "name": "stdout",
     "output_type": "stream",
     "text": [
      "Porcentaje de valores nan en la columna <Data Entrada Port>:\n",
      "                                                        0.0%\n",
      "\n",
      "Porcentaje de valores nan en la columna <Data MAINGATE>:\n",
      "                                                        0.0%\n",
      "\n",
      "Porcentaje de valores nan en la columna <Data SORTIDA>:\n",
      "                                                        0.0%\n",
      "\n",
      "Porcentaje de valores nan en la columna <DataHora CODECO>:\n",
      "                                                        0.0%\n",
      "\n"
     ]
    }
   ],
   "source": [
    "porc_val(df_ligth,columnas)"
   ]
  },
  {
   "cell_type": "code",
   "execution_count": 49,
   "id": "eb65f463",
   "metadata": {
    "scrolled": false
   },
   "outputs": [
    {
     "name": "stderr",
     "output_type": "stream",
     "text": [
      "<ipython-input-49-e3aed28ccf7a>:1: FutureWarning: null_counts is deprecated. Use show_counts instead\n",
      "  df_general.info(null_counts=True)\n"
     ]
    },
    {
     "name": "stdout",
     "output_type": "stream",
     "text": [
      "<class 'pandas.core.frame.DataFrame'>\n",
      "Int64Index: 3290881 entries, 0 to 3308449\n",
      "Data columns (total 12 columns):\n",
      " #   Column                 Non-Null Count    Dtype         \n",
      "---  ------                 --------------    -----         \n",
      " 0   <Data Operació>        3290881 non-null  object        \n",
      " 1   <Visita>               3290881 non-null  object        \n",
      " 2   <# Operacions>         3290881 non-null  float64       \n",
      " 3   <Contenidor>           3290881 non-null  object        \n",
      " 4   <Ple/Buit>             3290881 non-null  object        \n",
      " 5   <Tipus Operació>       3290881 non-null  object        \n",
      " 6   <Data Entrada Port>    3290881 non-null  datetime64[ns]\n",
      " 7   <Data MAINGATE>        3290881 non-null  datetime64[ns]\n",
      " 8   <Data SORTIDA>         3290881 non-null  datetime64[ns]\n",
      " 9   <DataHora CODECO>      3290881 non-null  datetime64[ns]\n",
      " 10  <Lloc d'entrada port>  2400771 non-null  object        \n",
      " 11  <Minuts trànsit>       1812178 non-null  float64       \n",
      "dtypes: datetime64[ns](4), float64(2), object(6)\n",
      "memory usage: 326.4+ MB\n"
     ]
    }
   ],
   "source": [
    "df_general.info(null_counts=True)"
   ]
  },
  {
   "cell_type": "code",
   "execution_count": 50,
   "id": "bf8f9cc3",
   "metadata": {},
   "outputs": [
    {
     "name": "stdout",
     "output_type": "stream",
     "text": [
      "<class 'pandas.core.frame.DataFrame'>\n",
      "Int64Index: 2226761 entries, 4203 to 3308293\n",
      "Data columns (total 12 columns):\n",
      " #   Column                 Non-Null Count    Dtype  \n",
      "---  ------                 --------------    -----  \n",
      " 0   <Data Operació>        2226761 non-null  object \n",
      " 1   <Visita>               2226761 non-null  object \n",
      " 2   <# Operacions>         2226761 non-null  float64\n",
      " 3   <Contenidor>           2226761 non-null  object \n",
      " 4   <Ple/Buit>             2226761 non-null  object \n",
      " 5   <Tipus Operació>       2226761 non-null  object \n",
      " 6   <Data Entrada Port>    2226761 non-null  object \n",
      " 7   <Data MAINGATE>        2226761 non-null  object \n",
      " 8   <Data SORTIDA>         2226761 non-null  object \n",
      " 9   <DataHora CODECO>      2226761 non-null  object \n",
      " 10  <Lloc d'entrada port>  2226761 non-null  object \n",
      " 11  <Minuts trànsit>       1730067 non-null  float64\n",
      "dtypes: float64(2), object(10)\n",
      "memory usage: 220.9+ MB\n"
     ]
    },
    {
     "name": "stderr",
     "output_type": "stream",
     "text": [
      "<ipython-input-50-519bb6802964>:1: FutureWarning: null_counts is deprecated. Use show_counts instead\n",
      "  df_ligth.info(null_counts=True)\n"
     ]
    }
   ],
   "source": [
    "df_ligth.info(null_counts=True)"
   ]
  },
  {
   "cell_type": "markdown",
   "id": "c0f6b1b0",
   "metadata": {},
   "source": [
    "# Creación de la columna camiones"
   ]
  },
  {
   "cell_type": "code",
   "execution_count": 51,
   "id": "e4dc0658",
   "metadata": {},
   "outputs": [],
   "source": [
    "def desnidad_camiones(data):\n",
    "  df_sort = pd.DataFrame(data[\"<# Operacions>\"])\n",
    "  df_sort[\"<Data SORTIDA>\"] = data[\"<Data SORTIDA>\"]\n",
    "  df_sort[\"<Data SORTIDA>\"] = pd.to_datetime(df_sort[\"<Data SORTIDA>\"])\n",
    "  df_sort.reset_index(drop=True, inplace=True)\n",
    "    \n",
    "\n",
    "\n",
    "  df_entr = pd.DataFrame(data[\"<# Operacions>\"])\n",
    "  df_entr[\"<Data Entrada Port>\"] = data[\"<Data Entrada Port>\"]\n",
    "  df_entr[\"<Data Entrada Port>\"] = pd.to_datetime(df_entr[\"<Data Entrada Port>\"])\n",
    "  df_entr.reset_index(drop=True, inplace=True)\n",
    "    \n",
    "  num_camiones = 0\n",
    "  densidad = []\n",
    "  index_ent = 0\n",
    "  index_sal = 0\n",
    "\n",
    "  while (len(df_sort)) > index_ent and  (len(df_entr)) > index_sal:\n",
    "\n",
    "    entrada = comparativa_camiones(df_sort[\"<Data SORTIDA>\"].iloc[index_sal],df_entr[\"<Data Entrada Port>\"].iloc[index_ent])\n",
    "    \n",
    "    if entrada:\n",
    "      num_camiones += 1/df_entr[\"<# Operacions>\"].iloc[index_ent]\n",
    "      index_ent += 1\n",
    "      densidad.append(num_camiones)\n",
    "\n",
    "    else:\n",
    "      num_camiones -= 1/df_sort[\"<# Operacions>\"].iloc[index_sal]\n",
    "      index_sal += 1\n",
    "        \n",
    "    if index_ent%100000 == 0:\n",
    "        print(\"quedan:\",len(df_entr)- index_ent,\"entradas\")\n",
    "\n",
    "  return densidad"
   ]
  },
  {
   "cell_type": "code",
   "execution_count": 52,
   "id": "cdf747f7",
   "metadata": {},
   "outputs": [],
   "source": [
    "def comparativa_camiones(salida,entrada):\n",
    "#input de entradas y salidas actualizado y retornará si el mas próximo es una entrada\n",
    "#o una salida. True -> entrada, False -> Salida\n",
    "\n",
    "  if entrada < salida:\n",
    "    entrada = True\n",
    "\n",
    "  else :\n",
    "    entrada = False\n",
    " # fuera se elimina la fecha correspondiente\n",
    "  return entrada"
   ]
  },
  {
   "cell_type": "code",
   "execution_count": 53,
   "id": "773caad2",
   "metadata": {
    "scrolled": true
   },
   "outputs": [
    {
     "name": "stdout",
     "output_type": "stream",
     "text": [
      "quedan: 2126761 entradas\n",
      "quedan: 2026761 entradas\n",
      "quedan: 1926761 entradas\n",
      "quedan: 1826761 entradas\n",
      "quedan: 1726761 entradas\n",
      "quedan: 1626761 entradas\n",
      "quedan: 1526761 entradas\n",
      "quedan: 1426761 entradas\n",
      "quedan: 1326761 entradas\n",
      "quedan: 1226761 entradas\n",
      "quedan: 1126761 entradas\n",
      "quedan: 1026761 entradas\n",
      "quedan: 926761 entradas\n",
      "quedan: 826761 entradas\n",
      "quedan: 726761 entradas\n",
      "quedan: 626761 entradas\n",
      "quedan: 526761 entradas\n",
      "quedan: 426761 entradas\n",
      "quedan: 326761 entradas\n",
      "quedan: 226761 entradas\n",
      "quedan: 126761 entradas\n",
      "quedan: 26761 entradas\n"
     ]
    }
   ],
   "source": [
    "num_camiones = desnidad_camiones(df_ligth)\n",
    "num_camiones = list(np.around(np.array(num_camiones),0))\n",
    "\n",
    "df_ligth[\"<num camiones>\"] = num_camiones"
   ]
  },
  {
   "cell_type": "code",
   "execution_count": 54,
   "id": "84f9c7d5",
   "metadata": {
    "scrolled": true
   },
   "outputs": [
    {
     "name": "stdout",
     "output_type": "stream",
     "text": [
      "quedan: 3190881 entradas\n",
      "quedan: 3090881 entradas\n",
      "quedan: 2990881 entradas\n",
      "quedan: 2890881 entradas\n",
      "quedan: 2790881 entradas\n",
      "quedan: 2690881 entradas\n",
      "quedan: 2590881 entradas\n",
      "quedan: 2490881 entradas\n",
      "quedan: 2390881 entradas\n",
      "quedan: 2290881 entradas\n",
      "quedan: 2190881 entradas\n",
      "quedan: 2090881 entradas\n",
      "quedan: 1990881 entradas\n",
      "quedan: 1890881 entradas\n",
      "quedan: 1790881 entradas\n",
      "quedan: 1690881 entradas\n",
      "quedan: 1590881 entradas\n",
      "quedan: 1490881 entradas\n",
      "quedan: 1390881 entradas\n",
      "quedan: 1290881 entradas\n",
      "quedan: 1190881 entradas\n",
      "quedan: 1090881 entradas\n",
      "quedan: 990881 entradas\n",
      "quedan: 890881 entradas\n",
      "quedan: 790881 entradas\n",
      "quedan: 690881 entradas\n",
      "quedan: 590881 entradas\n",
      "quedan: 490881 entradas\n",
      "quedan: 390881 entradas\n",
      "quedan: 290881 entradas\n",
      "quedan: 190881 entradas\n",
      "quedan: 90881 entradas\n"
     ]
    }
   ],
   "source": [
    "num_camiones = desnidad_camiones(df_general)\n",
    "num_camiones = list(np.around(np.array(num_camiones),0))\n",
    "\n",
    "df_general[\"<num camiones>\"] = num_camiones"
   ]
  },
  {
   "cell_type": "markdown",
   "id": "84fa8b0b",
   "metadata": {},
   "source": [
    "Aquí tenemos 2 datasets:\n",
    "- df_general: Todas las lineas iniciales, con los tiempos rellenados\n",
    "- df_light: Con las lineas con algún tiempo vacío eliminado\n",
    "\n",
    "La idea ahora, eliminar las lineas donde los minuts cua están vacíos"
   ]
  },
  {
   "cell_type": "markdown",
   "id": "d1a09a01",
   "metadata": {},
   "source": [
    "Se definen las categorias para los valores tanto objetivo como para las descriptivas"
   ]
  },
  {
   "cell_type": "markdown",
   "id": "ccc25589",
   "metadata": {},
   "source": [
    "Podríamos eliminar la variable objetivo, y convertir la hora de salida como objetivo. Si no, dos columnas son las "
   ]
  },
  {
   "cell_type": "markdown",
   "id": "6ccced08",
   "metadata": {},
   "source": [
    "# Eliminación de outlayers y valores 0"
   ]
  },
  {
   "cell_type": "code",
   "execution_count": 55,
   "id": "81767ccd",
   "metadata": {},
   "outputs": [],
   "source": [
    "df_general = df_general.dropna(subset=['<Minuts trànsit>'])\n",
    "\n",
    "df_ligth = df_ligth.dropna(subset=['<Minuts trànsit>'])\n",
    "df_ligth = df_ligth.dropna(subset=['<Minuts trànsit>'])"
   ]
  },
  {
   "cell_type": "markdown",
   "id": "0e2d47d9",
   "metadata": {},
   "source": [
    "# Preparación de inputs"
   ]
  },
  {
   "cell_type": "markdown",
   "id": "bac62e82",
   "metadata": {},
   "source": [
    "Las columnas de los inputs serán:\n",
    "\n",
    "    - Numero de camiones\n",
    "    - Minutos de transito anteriores\n",
    "    - minutos desde CODECO a sortida\n",
    "    - Mes de la data de operacio\n",
    "    - Hora de entrada\n",
    "    - Ple/buit\n",
    "    - Tipo de operacion\n",
    "    - Lugar de entrada"
   ]
  },
  {
   "cell_type": "code",
   "execution_count": 56,
   "id": "25fc5443",
   "metadata": {},
   "outputs": [],
   "source": [
    "def selec_camion(df,operacion):\n",
    "    \n",
    "    df_temp = df[df[\"<# Operacions>\"]==operacion]\n",
    "    \n",
    "    df_temp.reset_index(drop=True,inplace=True)\n",
    "    \n",
    "    indices = list(range(3,len(df_temp),operacion))\n",
    "    \n",
    "    return df_temp.iloc[indices]"
   ]
  },
  {
   "cell_type": "code",
   "execution_count": 57,
   "id": "8ca738a3",
   "metadata": {},
   "outputs": [],
   "source": [
    "df_ligth[\"<Data SORTIDA>\"] =  pd.to_datetime(df_ligth[\"<Data SORTIDA>\"])\n",
    "\n",
    "df_ligth['<DataHora CODECO>'] = pd.to_datetime(df_ligth['<DataHora CODECO>'])"
   ]
  },
  {
   "cell_type": "code",
   "execution_count": 58,
   "id": "83cc814d",
   "metadata": {},
   "outputs": [],
   "source": [
    "#se rectifican tiempos ilógicos\n",
    "\n",
    "df_general.reset_index(drop=True, inplace=True)\n",
    "\n",
    "indice = df_general[df_general[\"<Data SORTIDA>\"] - df_general['<DataHora CODECO>'] < pd.Timedelta(\"00:00:00\")].index\n",
    "\n",
    "df_general['<Data SORTIDA>'].iloc[indice] = df_general[\"<DataHora CODECO>\"].iloc[indice]+tiempo_medio_salida"
   ]
  },
  {
   "cell_type": "code",
   "execution_count": 59,
   "id": "ab193f9a",
   "metadata": {},
   "outputs": [
    {
     "name": "stderr",
     "output_type": "stream",
     "text": [
      "C:\\Users\\didac\\anaconda3\\lib\\site-packages\\pandas\\core\\indexing.py:1637: SettingWithCopyWarning: \n",
      "A value is trying to be set on a copy of a slice from a DataFrame\n",
      "\n",
      "See the caveats in the documentation: https://pandas.pydata.org/pandas-docs/stable/user_guide/indexing.html#returning-a-view-versus-a-copy\n",
      "  self._setitem_single_block(indexer, value, name)\n"
     ]
    }
   ],
   "source": [
    "#se rectifican tiempos ilógicos\n",
    "\n",
    "df_ligth.reset_index(drop=True, inplace=True)\n",
    "\n",
    "indice = df_ligth[df_ligth[\"<Data SORTIDA>\"]- df_ligth['<DataHora CODECO>'] < pd.Timedelta(\"00:00:00\")].index\n",
    "\n",
    "df_ligth['<Data SORTIDA>'].iloc[indice] = df_ligth[\"<DataHora CODECO>\"].iloc[indice]+tiempo_medio_salida"
   ]
  },
  {
   "cell_type": "code",
   "execution_count": 60,
   "id": "11d213ed",
   "metadata": {},
   "outputs": [],
   "source": [
    "df_cu = selec_camion(df_general,4)\n",
    "df_tr = selec_camion(df_general,3)\n",
    "df_do = selec_camion(df_general,2)\n",
    "df_un = selec_camion(df_general,1)\n",
    "\n",
    "df_general_trn = pd.concat([df_un,df_do,df_tr,df_cu])"
   ]
  },
  {
   "cell_type": "code",
   "execution_count": 61,
   "id": "10186561",
   "metadata": {},
   "outputs": [
    {
     "name": "stdout",
     "output_type": "stream",
     "text": [
      "quedan: 1712178 valores\n",
      "quedan: 1612178 valores\n",
      "quedan: 1512178 valores\n",
      "quedan: 1412178 valores\n",
      "quedan: 1312178 valores\n",
      "quedan: 1212178 valores\n",
      "quedan: 1112178 valores\n",
      "quedan: 1012178 valores\n",
      "quedan: 912178 valores\n",
      "quedan: 812178 valores\n",
      "quedan: 712178 valores\n",
      "quedan: 612178 valores\n",
      "quedan: 512178 valores\n"
     ]
    }
   ],
   "source": [
    "tiempo_histo = [0,0,0,0,0,0,0,0,0,0]\n",
    "       \n",
    "for i in range(10,len(df_general_trn)):\n",
    "    \n",
    "    tiempo_histo.append(df_general_trn['<Minuts trànsit>'].iloc[i-10:i].mean())\n",
    "\n",
    "    if i % 100000 == 0:\n",
    "        print(\"quedan:\", len(df_general)-i,\"valores\")\n",
    "        \n",
    "df_general_trn['<Hist. Minuts trànsit>'] = tiempo_histo"
   ]
  },
  {
   "cell_type": "markdown",
   "id": "37032242",
   "metadata": {},
   "source": [
    "# Revision de la creación del histórico codeco-sortida"
   ]
  },
  {
   "cell_type": "code",
   "execution_count": 63,
   "id": "a0c92639",
   "metadata": {},
   "outputs": [
    {
     "name": "stdout",
     "output_type": "stream",
     "text": [
      "quedan: 1712178 valores\n",
      "quedan: 1612178 valores\n",
      "quedan: 1512178 valores\n",
      "quedan: 1412178 valores\n",
      "quedan: 1312178 valores\n",
      "quedan: 1212178 valores\n",
      "quedan: 1112178 valores\n",
      "quedan: 1012178 valores\n",
      "quedan: 912178 valores\n",
      "quedan: 812178 valores\n",
      "quedan: 712178 valores\n",
      "quedan: 612178 valores\n",
      "quedan: 512178 valores\n"
     ]
    }
   ],
   "source": [
    "tiempo_histo_co = [0,0,0,0,0,0,0,0,0,0]\n",
    "       \n",
    "for i in range(10,len(df_general_trn)):\n",
    "    \n",
    "    historic = df_general_trn[\"<Data SORTIDA>\"].iloc[i-10:i]-df_general_trn['<DataHora CODECO>'].iloc[i-10:i]\n",
    "    \n",
    "    tiempo_histo_co.append(historic.mean())\n",
    "\n",
    "    if i % 100000 == 0:\n",
    "        print(\"quedan:\", len(df_general)-i,\"valores\")\n",
    "        \n",
    "df_general_trn['<Hist. codeco sortida>'] = tiempo_histo_co"
   ]
  },
  {
   "cell_type": "code",
   "execution_count": 64,
   "id": "8633f11d",
   "metadata": {},
   "outputs": [],
   "source": [
    "#Eliminamos las 10 primeras lineas\n",
    "\n",
    "df_general_trn.drop(df_general_trn[0:10].index, inplace=True)\n",
    "df_general_trn.reset_index(drop=True,inplace=True)"
   ]
  },
  {
   "cell_type": "code",
   "execution_count": 65,
   "id": "cbf6970a",
   "metadata": {},
   "outputs": [
    {
     "data": {
      "text/plain": [
       "Index(['<Data Operació>', '<Visita>', '<# Operacions>', '<Contenidor>',\n",
       "       '<Ple/Buit>', '<Tipus Operació>', '<Data Entrada Port>',\n",
       "       '<Data MAINGATE>', '<Data SORTIDA>', '<DataHora CODECO>',\n",
       "       '<Lloc d'entrada port>', '<Minuts trànsit>', '<num camiones>',\n",
       "       '<Hist. Minuts trànsit>', '<Hist. codeco sortida>', 'Mes'],\n",
       "      dtype='object')"
      ]
     },
     "execution_count": 65,
     "metadata": {},
     "output_type": "execute_result"
    }
   ],
   "source": [
    "df_general_trn['Mes'] = df_general_trn['<Data Entrada Port>'].dt.month\n",
    "\n",
    "df_general_trn.columns"
   ]
  },
  {
   "cell_type": "code",
   "execution_count": 66,
   "id": "9c05b8c1",
   "metadata": {},
   "outputs": [],
   "source": [
    "df_cu = selec_camion(df_ligth,4)\n",
    "df_tr = selec_camion(df_ligth,3)\n",
    "df_do = selec_camion(df_ligth,2)\n",
    "df_un = selec_camion(df_ligth,1)\n",
    "\n",
    "df_general_trn_light = pd.concat([df_un,df_do,df_tr,df_cu])"
   ]
  },
  {
   "cell_type": "code",
   "execution_count": 67,
   "id": "6c6c0fac",
   "metadata": {},
   "outputs": [],
   "source": [
    "df_general_trn_light[\"<Data SORTIDA>\"] = pd.to_datetime(df_general_trn_light[\"<Data SORTIDA>\"])\n",
    "df_general_trn_light['<DataHora CODECO>'] = pd.to_datetime(df_general_trn_light['<DataHora CODECO>'])\n",
    "df_general_trn_light['<Data Entrada Port>'] = pd.to_datetime(df_general_trn_light['<Data Entrada Port>'])"
   ]
  },
  {
   "cell_type": "code",
   "execution_count": 68,
   "id": "a32c47ab",
   "metadata": {},
   "outputs": [],
   "source": [
    "df_general_trn_light['Mes'] = df_general_trn_light['<Data Entrada Port>'].dt.month"
   ]
  },
  {
   "cell_type": "code",
   "execution_count": 69,
   "id": "28a085d9",
   "metadata": {},
   "outputs": [
    {
     "name": "stdout",
     "output_type": "stream",
     "text": [
      "quedan: 1630067 valores\n",
      "quedan: 1530067 valores\n",
      "quedan: 1430067 valores\n",
      "quedan: 1330067 valores\n",
      "quedan: 1230067 valores\n",
      "quedan: 1130067 valores\n",
      "quedan: 1030067 valores\n",
      "quedan: 930067 valores\n",
      "quedan: 830067 valores\n",
      "quedan: 730067 valores\n",
      "quedan: 630067 valores\n",
      "quedan: 530067 valores\n",
      "quedan: 430067 valores\n"
     ]
    }
   ],
   "source": [
    "tiempo_histo = [0,0,0,0,0,0,0,0,0,0]\n",
    "       \n",
    "for i in range(10,len(df_general_trn_light)):\n",
    "    \n",
    "    tiempo_histo.append(df_general_trn_light['<Minuts trànsit>'].iloc[i-10:i].mean())\n",
    "\n",
    "    if i % 100000 == 0:\n",
    "        print(\"quedan:\", len(df_ligth)-i,\"valores\")\n",
    "        \n",
    "df_general_trn_light['<Hist. Minuts trànsit>'] = tiempo_histo"
   ]
  },
  {
   "cell_type": "code",
   "execution_count": 70,
   "id": "74e08048",
   "metadata": {},
   "outputs": [
    {
     "name": "stdout",
     "output_type": "stream",
     "text": [
      "quedan: 1630067 valores\n",
      "quedan: 1530067 valores\n",
      "quedan: 1430067 valores\n",
      "quedan: 1330067 valores\n",
      "quedan: 1230067 valores\n",
      "quedan: 1130067 valores\n",
      "quedan: 1030067 valores\n",
      "quedan: 930067 valores\n",
      "quedan: 830067 valores\n",
      "quedan: 730067 valores\n",
      "quedan: 630067 valores\n",
      "quedan: 530067 valores\n",
      "quedan: 430067 valores\n"
     ]
    }
   ],
   "source": [
    "tiempo_histo_co = [0,0,0,0,0,0,0,0,0,0]\n",
    "       \n",
    "for i in range(10,len(df_general_trn_light)):\n",
    "    \n",
    "    historic = df_general_trn_light[\"<Data SORTIDA>\"].iloc[i-10:i]-df_general_trn_light['<DataHora CODECO>'].iloc[i-10:i]\n",
    "    \n",
    "    tiempo_histo_co.append(historic.mean())\n",
    "\n",
    "    if i % 100000 == 0:\n",
    "        print(\"quedan:\", len(df_ligth)-i,\"valores\")\n",
    "        \n",
    "df_general_trn_light['<Hist. codeco sortida>'] = tiempo_histo_co"
   ]
  },
  {
   "cell_type": "code",
   "execution_count": 71,
   "id": "f8d820b0",
   "metadata": {},
   "outputs": [],
   "source": [
    "#Eliminamos las 10 primeras lineas\n",
    "\n",
    "df_general_trn_light.drop(df_general_trn_light[0:10].index, inplace=True)\n",
    "df_general_trn_light.reset_index(drop=True,inplace=True)"
   ]
  },
  {
   "cell_type": "markdown",
   "id": "86862a53",
   "metadata": {},
   "source": [
    "# Categorización de los Datos\n"
   ]
  },
  {
   "cell_type": "markdown",
   "id": "44da7571",
   "metadata": {},
   "source": [
    "Categorización de número de camiones:\n",
    " - despejado\n",
    " - muy fluido\n",
    " - fluido\n",
    " - denso\n",
    " - muy denso\n",
    " "
   ]
  },
  {
   "cell_type": "code",
   "execution_count": 72,
   "id": "efae2a6c",
   "metadata": {},
   "outputs": [],
   "source": [
    "def categor(df_, columna, categorias):\n",
    "    \n",
    "    df = df_.copy()\n",
    "    \n",
    "    df =  df.sort_values(columna)\n",
    "    df.reset_index(drop=True, inplace=True)\n",
    "    \n",
    "    part = math.floor(len(df)/len(categorias))\n",
    "    \n",
    "    indices_a = df.iloc[:part].index\n",
    "    indices_b = df.iloc[part:(2*part)].index\n",
    "    indices_c = df.iloc[(2*part):(3*part)].index\n",
    "    indices_d = df.iloc[(3*part):(4*part)].index  \n",
    "    indices_e = df.iloc[(4*part):].index \n",
    "    \n",
    "    indices = [indices_a,indices_b,indices_c,indices_d,indices_e]\n",
    "    \n",
    "    print(\"los rango de valores son:\")\n",
    "    \n",
    "    for i in indices:\n",
    "        \n",
    "        inicio = i[0]\n",
    "        final= i[-1]\n",
    "        \n",
    "        print(df.iloc[inicio][columna],\"-\",df.iloc[final][columna],3)\n",
    "        \n",
    "    valores = []\n",
    "    for j in range(len(categorias)):\n",
    "        for i in range(len(indices_a)):\n",
    "            n = 0\n",
    "            if j != len(categorias)-1:\n",
    "                valores.append(categorias[j])\n",
    "    \n",
    "    for i in range(len(indices_e)):\n",
    "        valores.append(categorias[-1])\n",
    "    \n",
    "    df[columna] = valores\n",
    "    \n",
    "    return df\n",
    "    "
   ]
  },
  {
   "cell_type": "code",
   "execution_count": 73,
   "id": "2c6247fb",
   "metadata": {},
   "outputs": [
    {
     "name": "stdout",
     "output_type": "stream",
     "text": [
      "los rango de valores son:\n",
      "0.0 - 148.0 3\n",
      "148.0 - 349.0 3\n",
      "349.0 - 596.0 3\n",
      "596.0 - 913.0 3\n",
      "913.0 - 2150.0 3\n",
      "muy denso    279231\n",
      "despejado    279229\n",
      "denso        279229\n",
      "muy fluid    279229\n",
      "fluid        279229\n",
      "Name: <num camiones>, dtype: int64\n"
     ]
    }
   ],
   "source": [
    "columna = \"<num camiones>\"\n",
    "\n",
    "categorias = [\"despejado\",\"muy fluid\",\"fluid\",\"denso\",\"muy denso\"]\n",
    "\n",
    "df_general_trn = categor(df_general_trn,columna,categorias)\n",
    "\n",
    "\n",
    "freq = df_general_trn[\"<num camiones>\"].value_counts() \n",
    "print(freq)"
   ]
  },
  {
   "cell_type": "code",
   "execution_count": 74,
   "id": "ecd5100b",
   "metadata": {},
   "outputs": [
    {
     "name": "stdout",
     "output_type": "stream",
     "text": [
      "los rango de valores son:\n",
      "0.0 - 114.0 3\n",
      "114.0 - 270.0 3\n",
      "270.0 - 464.0 3\n",
      "464.0 - 711.0 3\n",
      "711.0 - 1448.0 3\n",
      "muy denso    265676\n",
      "despejado    265674\n",
      "denso        265674\n",
      "muy fluid    265674\n",
      "fluid        265674\n",
      "Name: <num camiones>, dtype: int64\n"
     ]
    }
   ],
   "source": [
    "columna = \"<num camiones>\"\n",
    "\n",
    "categorias = [\"despejado\",\"muy fluid\",\"fluid\",\"denso\",\"muy denso\"]\n",
    "\n",
    "df_general_trn_light = categor(df_general_trn_light,columna,categorias)\n",
    "#df_general_trn_light = df_general_trn_light.drop([\"level_0\"], axis=1)\n",
    "#df_general_trn_light = df_general_trn_light.drop([\"index\"], axis=1)\n",
    "\n",
    "freq = df_general_trn_light[\"<num camiones>\"].value_counts() \n",
    "print(freq)"
   ]
  },
  {
   "cell_type": "code",
   "execution_count": 75,
   "id": "34b78971",
   "metadata": {},
   "outputs": [],
   "source": [
    "def meses(df):\n",
    "    \n",
    "    meses = [\"ENERO\",\"FEBRERO\",\"MARZO\",\"ABRIL\",\"MAYO\",\"JUNIO\",\"JULIO\",\"AGOSTO\",\"SEPTIEMBRE\",\"OCTUBRE\",\"NOVIEMBRE\",\"DICIEMBRE\"]\n",
    "    \n",
    "    df.loc[df['Mes'] == 1, 'Mes'] = meses[0]\n",
    "    df.loc[df['Mes'] == 2, 'Mes'] = meses[1]\n",
    "    df.loc[df['Mes'] == 3, 'Mes'] = meses[2]\n",
    "    df.loc[df['Mes'] == 4, 'Mes'] = meses[3]\n",
    "    df.loc[df['Mes'] == 5, 'Mes'] = meses[4]\n",
    "    df.loc[df['Mes'] == 6, 'Mes'] = meses[5]\n",
    "    df.loc[df['Mes'] == 7, 'Mes'] = meses[6]\n",
    "    df.loc[df['Mes'] == 8, 'Mes'] = meses[7]\n",
    "    df.loc[df['Mes'] == 9, 'Mes'] = meses[8]\n",
    "    df.loc[df['Mes'] == 10, 'Mes'] = meses[9]\n",
    "    df.loc[df['Mes'] == 11, 'Mes'] = meses[10]\n",
    "    df.loc[df['Mes'] == 12, 'Mes'] = meses[11]\n",
    "    \n",
    "    return df"
   ]
  },
  {
   "cell_type": "code",
   "execution_count": 76,
   "id": "b775d53e",
   "metadata": {},
   "outputs": [],
   "source": [
    "df_general_trn = meses(df_general_trn)\n",
    "df_general_trn_light = meses(df_general_trn_light)"
   ]
  },
  {
   "cell_type": "code",
   "execution_count": 77,
   "id": "9203ce0c",
   "metadata": {},
   "outputs": [
    {
     "name": "stdout",
     "output_type": "stream",
     "text": [
      "los rango de valores son:\n",
      "0.0833 - 6.483300000000001 3\n",
      "6.483300000000001 - 14.6 3\n",
      "14.6 - 29.9167 3\n",
      "29.9167 - 57.7167 3\n",
      "57.7167 - 593.9 3\n",
      "los rango de valores son:\n",
      "0.0833 - 6.4 3\n",
      "6.4 - 14.4167 3\n",
      "14.4167 - 29.6 3\n",
      "29.6 - 57.2333 3\n",
      "57.2333 - 593.9 3\n"
     ]
    }
   ],
   "source": [
    "df_general_trn = categor(df_general_trn, \"<Minuts trànsit>\", categorias)\n",
    "\n",
    "df_general_trn_light = categor(df_general_trn_light, \"<Minuts trànsit>\", categorias)"
   ]
  },
  {
   "cell_type": "code",
   "execution_count": 78,
   "id": "747ec511",
   "metadata": {},
   "outputs": [
    {
     "name": "stdout",
     "output_type": "stream",
     "text": [
      "los rango de valores son:\n",
      "1.8616799999999998 - 13.10666 3\n",
      "13.10666 - 21.490009999999998 3\n",
      "21.490009999999998 - 33.13833 3\n",
      "33.13833 - 49.80834 3\n",
      "49.80834 - 481.47166000000004 3\n",
      "los rango de valores son:\n",
      "1.8616799999999998 - 12.995 3\n",
      "12.995 - 21.31167 3\n",
      "21.31167 - 32.888329999999996 3\n",
      "32.888329999999996 - 49.36833 3\n",
      "49.36833 - 481.47166000000004 3\n"
     ]
    }
   ],
   "source": [
    "df_general_trn = categor(df_general_trn, \"<Hist. Minuts trànsit>\", categorias)\n",
    "\n",
    "df_general_trn_light = categor(df_general_trn_light, \"<Hist. Minuts trànsit>\", categorias)"
   ]
  },
  {
   "cell_type": "code",
   "execution_count": 79,
   "id": "e2aa0ef9",
   "metadata": {},
   "outputs": [
    {
     "name": "stdout",
     "output_type": "stream",
     "text": [
      "los rango de valores son:\n",
      "0 days 00:00:08.500000 - 0 days 00:03:10.578487229 3\n",
      "0 days 00:03:10.579715127 - 0 days 00:04:23.700000 3\n",
      "0 days 00:04:23.700000 - 0 days 00:06:03.237582231 3\n",
      "0 days 00:06:03.237622789 - 0 days 00:11:21.500000 3\n",
      "0 days 00:11:21.500000 - 0 days 03:45:37.300000 3\n",
      "los rango de valores son:\n",
      "0 days 00:00:08.500000 - 0 days 00:02:54.200000 3\n",
      "0 days 00:02:54.200000 - 0 days 00:04:01.400000 3\n",
      "0 days 00:04:01.400000 - 0 days 00:05:24.300000 3\n",
      "0 days 00:05:24.300000 - 0 days 00:07:10.200000 3\n",
      "0 days 00:07:10.200000 - 0 days 03:45:37.300000 3\n"
     ]
    }
   ],
   "source": [
    "df_general_trn = categor(df_general_trn, \"<Hist. codeco sortida>\", categorias)\n",
    "\n",
    "df_general_trn_light = categor(df_general_trn_light, \"<Hist. codeco sortida>\", categorias)"
   ]
  },
  {
   "cell_type": "code",
   "execution_count": 80,
   "id": "c38d8af2",
   "metadata": {},
   "outputs": [],
   "source": [
    "columnas_eliminar = ['<Data Operació>', '<Visita>', '<# Operacions>', '<Contenidor>','<Data Entrada Port>', '<Data MAINGATE>', '<Data SORTIDA>','<DataHora CODECO>']"
   ]
  },
  {
   "cell_type": "code",
   "execution_count": 81,
   "id": "ce2f864f",
   "metadata": {},
   "outputs": [],
   "source": [
    "df_general_trn = df_general_trn.drop(columnas_eliminar, axis=1)"
   ]
  },
  {
   "cell_type": "code",
   "execution_count": 82,
   "id": "4e321cee",
   "metadata": {},
   "outputs": [],
   "source": [
    "df_general_trn_light = df_general_trn_light.drop(columnas_eliminar, axis=1)"
   ]
  },
  {
   "cell_type": "code",
   "execution_count": 83,
   "id": "6ecf99cb",
   "metadata": {},
   "outputs": [
    {
     "data": {
      "text/plain": [
       "Index(['<Ple/Buit>', '<Tipus Operació>', '<Lloc d'entrada port>',\n",
       "       '<Minuts trànsit>', '<num camiones>', 'Mes', '<Hist. Minuts trànsit>',\n",
       "       '<Hist. codeco sortida>'],\n",
       "      dtype='object')"
      ]
     },
     "execution_count": 83,
     "metadata": {},
     "output_type": "execute_result"
    }
   ],
   "source": [
    "df_general_trn_light.columns"
   ]
  },
  {
   "cell_type": "code",
   "execution_count": 84,
   "id": "934f6b75",
   "metadata": {},
   "outputs": [],
   "source": [
    "mask1 = df_general_trn[\"<Minuts trànsit>\"]== \"muy denso\"\n",
    "\n",
    "mask2 = df_general_trn[\"<Hist. Minuts trànsit>\"]== \"despejado\""
   ]
  },
  {
   "cell_type": "code",
   "execution_count": 85,
   "id": "7fb965d4",
   "metadata": {},
   "outputs": [
    {
     "data": {
      "text/plain": [
       "1771"
      ]
     },
     "execution_count": 85,
     "metadata": {},
     "output_type": "execute_result"
    }
   ],
   "source": [
    "len(df_general_trn[mask1&mask2])"
   ]
  },
  {
   "cell_type": "markdown",
   "id": "c04e393f",
   "metadata": {},
   "source": [
    "Fijando el valor de muy denso en Minutos de tránsito, miramos los valores del historico de miuntos de transito\n",
    "\n",
    "muy densa 160604\n",
    "denso      78959\n",
    "fluid      30780\n",
    "muy fluido  7117\n",
    "despejado   1771\n"
   ]
  },
  {
   "cell_type": "code",
   "execution_count": 86,
   "id": "7c9cc000",
   "metadata": {},
   "outputs": [],
   "source": [
    "mask3 = df_general_trn[\"<num camiones>\"]== \"muy denso\"\n",
    "\n",
    "mask4 = df_general_trn[\"<Hist. Minuts trànsit>\"]== \"despejado\""
   ]
  },
  {
   "cell_type": "code",
   "execution_count": 87,
   "id": "26b2fec7",
   "metadata": {},
   "outputs": [
    {
     "data": {
      "text/plain": [
       "29554"
      ]
     },
     "execution_count": 87,
     "metadata": {},
     "output_type": "execute_result"
    }
   ],
   "source": [
    "len(df_general_trn[mask3&mask4])"
   ]
  },
  {
   "cell_type": "code",
   "execution_count": 88,
   "id": "bad77e2f",
   "metadata": {},
   "outputs": [
    {
     "data": {
      "text/plain": [
       "array(['fluid', 'denso', 'muy fluid', 'muy denso', 'despejado'],\n",
       "      dtype=object)"
      ]
     },
     "execution_count": 88,
     "metadata": {},
     "output_type": "execute_result"
    }
   ],
   "source": [
    "df_general_trn[\"<Hist. Minuts trànsit>\"].unique()"
   ]
  },
  {
   "cell_type": "markdown",
   "id": "9c562b46",
   "metadata": {},
   "source": [
    "Fijando el valor de muy denso en num camiones, miramos los valores del historico de miuntos de transito\n",
    "\n",
    "muy densa  77470\n",
    "denso      68518\n",
    "fluid      58129 \n",
    "muy fluido 45560 \n",
    "despejado  29554"
   ]
  },
  {
   "cell_type": "code",
   "execution_count": 89,
   "id": "c7957775",
   "metadata": {},
   "outputs": [
    {
     "data": {
      "text/plain": [
       "1396147"
      ]
     },
     "execution_count": 89,
     "metadata": {},
     "output_type": "execute_result"
    }
   ],
   "source": [
    "len(df_general_trn)"
   ]
  },
  {
   "cell_type": "code",
   "execution_count": 90,
   "id": "71f5cb52",
   "metadata": {},
   "outputs": [
    {
     "data": {
      "text/plain": [
       "1328372"
      ]
     },
     "execution_count": 90,
     "metadata": {},
     "output_type": "execute_result"
    }
   ],
   "source": [
    "len(df_general_trn_light)"
   ]
  },
  {
   "cell_type": "markdown",
   "id": "8324051a",
   "metadata": {},
   "source": [
    "# Guardar los datasets destinados a modelo"
   ]
  },
  {
   "cell_type": "code",
   "execution_count": null,
   "id": "a135e2af",
   "metadata": {},
   "outputs": [],
   "source": [
    "#Ruta de guardado\n",
    "\n",
    "dir_out = os.makedirs('Datos_categorizados/', exist_ok=True)\n",
    "\n",
    "df_general_trn.to_csv('Datos_categorizados/df_general_trn.csv')\n",
    "\n",
    "df_general_trn_light.to_csv('Datos_categorizados/df_general_trn_light.csv')"
   ]
  },
  {
   "cell_type": "code",
   "execution_count": null,
   "id": "2e838e04",
   "metadata": {},
   "outputs": [],
   "source": []
  }
 ],
 "metadata": {
  "kernelspec": {
   "display_name": "Python 3",
   "language": "python",
   "name": "python3"
  },
  "language_info": {
   "codemirror_mode": {
    "name": "ipython",
    "version": 3
   },
   "file_extension": ".py",
   "mimetype": "text/x-python",
   "name": "python",
   "nbconvert_exporter": "python",
   "pygments_lexer": "ipython3",
   "version": "3.8.8"
  }
 },
 "nbformat": 4,
 "nbformat_minor": 5
}
